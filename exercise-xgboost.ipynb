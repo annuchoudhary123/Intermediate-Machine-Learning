{
 "cells": [
  {
   "cell_type": "markdown",
   "id": "4a99b1d9",
   "metadata": {
    "papermill": {
     "duration": 0.020507,
     "end_time": "2022-05-13T20:26:47.118335",
     "exception": false,
     "start_time": "2022-05-13T20:26:47.097828",
     "status": "completed"
    },
    "tags": []
   },
   "source": [
    "**This notebook is an exercise in the [Intermediate Machine Learning](https://www.kaggle.com/learn/intermediate-machine-learning) course.  You can reference the tutorial at [this link](https://www.kaggle.com/alexisbcook/xgboost).**\n",
    "\n",
    "---\n"
   ]
  },
  {
   "cell_type": "markdown",
   "id": "0ba3bb0c",
   "metadata": {
    "papermill": {
     "duration": 0.01871,
     "end_time": "2022-05-13T20:26:47.156375",
     "exception": false,
     "start_time": "2022-05-13T20:26:47.137665",
     "status": "completed"
    },
    "tags": []
   },
   "source": [
    "In this exercise, you will use your new knowledge to train a model with **gradient boosting**.\n",
    "\n",
    "# Setup\n",
    "\n",
    "The questions below will give you feedback on your work. Run the following cell to set up the feedback system."
   ]
  },
  {
   "cell_type": "code",
   "execution_count": 1,
   "id": "7667a701",
   "metadata": {
    "execution": {
     "iopub.execute_input": "2022-05-13T20:26:47.196820Z",
     "iopub.status.busy": "2022-05-13T20:26:47.196464Z",
     "iopub.status.idle": "2022-05-13T20:26:49.588960Z",
     "shell.execute_reply": "2022-05-13T20:26:49.588272Z"
    },
    "papermill": {
     "duration": 2.416839,
     "end_time": "2022-05-13T20:26:49.592172",
     "exception": false,
     "start_time": "2022-05-13T20:26:47.175333",
     "status": "completed"
    },
    "tags": []
   },
   "outputs": [
    {
     "name": "stdout",
     "output_type": "stream",
     "text": [
      "Setup Complete\n"
     ]
    }
   ],
   "source": [
    "# Set up code checking\n",
    "import os\n",
    "if not os.path.exists(\"../input/train.csv\"):\n",
    "    os.symlink(\"../input/home-data-for-ml-course/train.csv\", \"../input/train.csv\")  \n",
    "    os.symlink(\"../input/home-data-for-ml-course/test.csv\", \"../input/test.csv\") \n",
    "from learntools.core import binder\n",
    "binder.bind(globals())\n",
    "from learntools.ml_intermediate.ex6 import *\n",
    "print(\"Setup Complete\")"
   ]
  },
  {
   "cell_type": "markdown",
   "id": "6651c33f",
   "metadata": {
    "papermill": {
     "duration": 0.019175,
     "end_time": "2022-05-13T20:26:49.632047",
     "exception": false,
     "start_time": "2022-05-13T20:26:49.612872",
     "status": "completed"
    },
    "tags": []
   },
   "source": [
    "You will work with the [Housing Prices Competition for Kaggle Learn Users](https://www.kaggle.com/c/home-data-for-ml-course) dataset from the previous exercise. \n",
    "\n",
    "![Ames Housing dataset image](https://i.imgur.com/lTJVG4e.png)\n",
    "\n",
    "Run the next code cell without changes to load the training and validation sets in `X_train`, `X_valid`, `y_train`, and `y_valid`.  The test set is loaded in `X_test`."
   ]
  },
  {
   "cell_type": "code",
   "execution_count": 2,
   "id": "f18718ad",
   "metadata": {
    "execution": {
     "iopub.execute_input": "2022-05-13T20:26:49.673029Z",
     "iopub.status.busy": "2022-05-13T20:26:49.672757Z",
     "iopub.status.idle": "2022-05-13T20:26:49.860049Z",
     "shell.execute_reply": "2022-05-13T20:26:49.859118Z"
    },
    "papermill": {
     "duration": 0.21087,
     "end_time": "2022-05-13T20:26:49.862407",
     "exception": false,
     "start_time": "2022-05-13T20:26:49.651537",
     "status": "completed"
    },
    "tags": []
   },
   "outputs": [],
   "source": [
    "import pandas as pd\n",
    "from sklearn.model_selection import train_test_split\n",
    "\n",
    "# Read the data\n",
    "X = pd.read_csv('../input/train.csv', index_col='Id')\n",
    "X_test_full = pd.read_csv('../input/test.csv', index_col='Id')\n",
    "\n",
    "# Remove rows with missing target, separate target from predictors\n",
    "X.dropna(axis=0, subset=['SalePrice'], inplace=True)\n",
    "y = X.SalePrice              \n",
    "X.drop(['SalePrice'], axis=1, inplace=True)\n",
    "\n",
    "# Break off validation set from training data\n",
    "X_train_full, X_valid_full, y_train, y_valid = train_test_split(X, y, train_size=0.8, test_size=0.2,\n",
    "                                                                random_state=0)\n",
    "\n",
    "# \"Cardinality\" means the number of unique values in a column\n",
    "# Select categorical columns with relatively low cardinality (convenient but arbitrary)\n",
    "low_cardinality_cols = [cname for cname in X_train_full.columns if X_train_full[cname].nunique() < 10 and \n",
    "                        X_train_full[cname].dtype == \"object\"]\n",
    "\n",
    "# Select numeric columns\n",
    "numeric_cols = [cname for cname in X_train_full.columns if X_train_full[cname].dtype in ['int64', 'float64']]\n",
    "\n",
    "# Keep selected columns only\n",
    "my_cols = low_cardinality_cols + numeric_cols\n",
    "X_train = X_train_full[my_cols].copy()\n",
    "X_valid = X_valid_full[my_cols].copy()\n",
    "X_test = X_test_full[my_cols].copy()\n",
    "\n",
    "# One-hot encode the data (to shorten the code, we use pandas)\n",
    "X_train = pd.get_dummies(X_train)\n",
    "X_valid = pd.get_dummies(X_valid)\n",
    "X_test = pd.get_dummies(X_test)\n",
    "X_train, X_valid = X_train.align(X_valid, join='left', axis=1)\n",
    "X_train, X_test = X_train.align(X_test, join='left', axis=1)"
   ]
  },
  {
   "cell_type": "markdown",
   "id": "4eba1321",
   "metadata": {
    "papermill": {
     "duration": 0.019257,
     "end_time": "2022-05-13T20:26:49.901166",
     "exception": false,
     "start_time": "2022-05-13T20:26:49.881909",
     "status": "completed"
    },
    "tags": []
   },
   "source": [
    "# Step 1: Build model\n",
    "\n",
    "### Part A\n",
    "\n",
    "In this step, you'll build and train your first model with gradient boosting.\n",
    "\n",
    "- Begin by setting `my_model_1` to an XGBoost model.  Use the [XGBRegressor](https://xgboost.readthedocs.io/en/latest/python/python_api.html#xgboost.XGBRegressor) class, and set the random seed to 0 (`random_state=0`).  **Leave all other parameters as default.**\n",
    "- Then, fit the model to the training data in `X_train` and `y_train`."
   ]
  },
  {
   "cell_type": "code",
   "execution_count": 3,
   "id": "fbd2c219",
   "metadata": {
    "execution": {
     "iopub.execute_input": "2022-05-13T20:26:49.942275Z",
     "iopub.status.busy": "2022-05-13T20:26:49.942000Z",
     "iopub.status.idle": "2022-05-13T20:26:50.866407Z",
     "shell.execute_reply": "2022-05-13T20:26:50.865495Z"
    },
    "papermill": {
     "duration": 0.94778,
     "end_time": "2022-05-13T20:26:50.868556",
     "exception": false,
     "start_time": "2022-05-13T20:26:49.920776",
     "status": "completed"
    },
    "tags": []
   },
   "outputs": [
    {
     "data": {
      "application/javascript": [
       "parent.postMessage({\"jupyterEvent\": \"custom.exercise_interaction\", \"data\": {\"outcomeType\": 1, \"valueTowardsCompletion\": 0.5, \"interactionType\": 1, \"questionType\": 2, \"questionId\": \"1.1_Model1A\", \"learnToolsVersion\": \"0.3.4\", \"failureMessage\": \"\", \"exceptionClass\": \"\", \"trace\": \"\"}}, \"*\")"
      ],
      "text/plain": [
       "<IPython.core.display.Javascript object>"
      ]
     },
     "metadata": {},
     "output_type": "display_data"
    },
    {
     "data": {
      "text/markdown": [
       "<span style=\"color:#33cc33\">Correct</span>"
      ],
      "text/plain": [
       "Correct"
      ]
     },
     "metadata": {},
     "output_type": "display_data"
    }
   ],
   "source": [
    "from xgboost import XGBRegressor\n",
    "\n",
    "# Define the model\n",
    "my_model_1 = XGBRegressor()\n",
    " # Your code here\n",
    "\n",
    "# Fit the model\n",
    "my_model_1.fit(X_train, y_train) # Your code here\n",
    "\n",
    "\n",
    "# Check your answer\n",
    "step_1.a.check()"
   ]
  },
  {
   "cell_type": "code",
   "execution_count": 4,
   "id": "c88db791",
   "metadata": {
    "execution": {
     "iopub.execute_input": "2022-05-13T20:26:50.913740Z",
     "iopub.status.busy": "2022-05-13T20:26:50.913207Z",
     "iopub.status.idle": "2022-05-13T20:26:50.916264Z",
     "shell.execute_reply": "2022-05-13T20:26:50.915656Z"
    },
    "papermill": {
     "duration": 0.027528,
     "end_time": "2022-05-13T20:26:50.918026",
     "exception": false,
     "start_time": "2022-05-13T20:26:50.890498",
     "status": "completed"
    },
    "tags": []
   },
   "outputs": [],
   "source": [
    "# Lines below will give you a hint or solution code\n",
    "#step_1.a.hint()\n",
    "#step_1.a.solution()"
   ]
  },
  {
   "cell_type": "markdown",
   "id": "61a7f2ca",
   "metadata": {
    "papermill": {
     "duration": 0.021141,
     "end_time": "2022-05-13T20:26:50.960569",
     "exception": false,
     "start_time": "2022-05-13T20:26:50.939428",
     "status": "completed"
    },
    "tags": []
   },
   "source": [
    "### Part B\n",
    "\n",
    "Set `predictions_1` to the model's predictions for the validation data.  Recall that the validation features are stored in `X_valid`."
   ]
  },
  {
   "cell_type": "code",
   "execution_count": 5,
   "id": "2a37a70d",
   "metadata": {
    "execution": {
     "iopub.execute_input": "2022-05-13T20:26:51.008175Z",
     "iopub.status.busy": "2022-05-13T20:26:51.007540Z",
     "iopub.status.idle": "2022-05-13T20:26:51.029436Z",
     "shell.execute_reply": "2022-05-13T20:26:51.028712Z"
    },
    "papermill": {
     "duration": 0.047103,
     "end_time": "2022-05-13T20:26:51.032137",
     "exception": false,
     "start_time": "2022-05-13T20:26:50.985034",
     "status": "completed"
    },
    "tags": []
   },
   "outputs": [
    {
     "data": {
      "application/javascript": [
       "parent.postMessage({\"jupyterEvent\": \"custom.exercise_interaction\", \"data\": {\"outcomeType\": 1, \"valueTowardsCompletion\": 0.5, \"interactionType\": 1, \"questionType\": 2, \"questionId\": \"1.2_Model1B\", \"learnToolsVersion\": \"0.3.4\", \"failureMessage\": \"\", \"exceptionClass\": \"\", \"trace\": \"\"}}, \"*\")"
      ],
      "text/plain": [
       "<IPython.core.display.Javascript object>"
      ]
     },
     "metadata": {},
     "output_type": "display_data"
    },
    {
     "data": {
      "text/markdown": [
       "<span style=\"color:#33cc33\">Correct</span>"
      ],
      "text/plain": [
       "Correct"
      ]
     },
     "metadata": {},
     "output_type": "display_data"
    }
   ],
   "source": [
    "from sklearn.metrics import mean_absolute_error\n",
    "\n",
    "# Get predictions\n",
    "predictions_1 = my_model_1.predict(X_valid) # Your code here\n",
    "\n",
    "# Check your answer\n",
    "step_1.b.check()"
   ]
  },
  {
   "cell_type": "code",
   "execution_count": 6,
   "id": "e96a0585",
   "metadata": {
    "execution": {
     "iopub.execute_input": "2022-05-13T20:26:51.079983Z",
     "iopub.status.busy": "2022-05-13T20:26:51.079688Z",
     "iopub.status.idle": "2022-05-13T20:26:51.082914Z",
     "shell.execute_reply": "2022-05-13T20:26:51.082228Z"
    },
    "papermill": {
     "duration": 0.027948,
     "end_time": "2022-05-13T20:26:51.084617",
     "exception": false,
     "start_time": "2022-05-13T20:26:51.056669",
     "status": "completed"
    },
    "tags": []
   },
   "outputs": [],
   "source": [
    "# Lines below will give you a hint or solution code\n",
    "#step_1.b.hint()\n",
    "#step_1.b.solution()"
   ]
  },
  {
   "cell_type": "markdown",
   "id": "d286ee9e",
   "metadata": {
    "papermill": {
     "duration": 0.021517,
     "end_time": "2022-05-13T20:26:51.128071",
     "exception": false,
     "start_time": "2022-05-13T20:26:51.106554",
     "status": "completed"
    },
    "tags": []
   },
   "source": [
    "### Part C\n",
    "\n",
    "Finally, use the `mean_absolute_error()` function to calculate the mean absolute error (MAE) corresponding to the predictions for the validation set.  Recall that the labels for the validation data are stored in `y_valid`."
   ]
  },
  {
   "cell_type": "code",
   "execution_count": 7,
   "id": "cb47aa44",
   "metadata": {
    "execution": {
     "iopub.execute_input": "2022-05-13T20:26:51.173440Z",
     "iopub.status.busy": "2022-05-13T20:26:51.172887Z",
     "iopub.status.idle": "2022-05-13T20:26:51.182942Z",
     "shell.execute_reply": "2022-05-13T20:26:51.181929Z"
    },
    "papermill": {
     "duration": 0.035395,
     "end_time": "2022-05-13T20:26:51.185265",
     "exception": false,
     "start_time": "2022-05-13T20:26:51.149870",
     "status": "completed"
    },
    "tags": []
   },
   "outputs": [
    {
     "name": "stdout",
     "output_type": "stream",
     "text": [
      "Mean Absolute Error: 17662.736729452055\n"
     ]
    },
    {
     "data": {
      "application/javascript": [
       "parent.postMessage({\"jupyterEvent\": \"custom.exercise_interaction\", \"data\": {\"outcomeType\": 1, \"valueTowardsCompletion\": 0.5, \"interactionType\": 1, \"questionType\": 2, \"questionId\": \"1.3_Model1C\", \"learnToolsVersion\": \"0.3.4\", \"failureMessage\": \"\", \"exceptionClass\": \"\", \"trace\": \"\"}}, \"*\")"
      ],
      "text/plain": [
       "<IPython.core.display.Javascript object>"
      ]
     },
     "metadata": {},
     "output_type": "display_data"
    },
    {
     "data": {
      "text/markdown": [
       "<span style=\"color:#33cc33\">Correct</span>"
      ],
      "text/plain": [
       "Correct"
      ]
     },
     "metadata": {},
     "output_type": "display_data"
    }
   ],
   "source": [
    "# Calculate MAE\n",
    "from sklearn.metrics import mean_absolute_error\n",
    "mae_1 = (mean_absolute_error(predictions_1, y_valid)) # Your code here\n",
    "\n",
    "# Uncomment to print MAE\n",
    "print(\"Mean Absolute Error:\" , mae_1)\n",
    "\n",
    "# Check your answer\n",
    "step_1.c.check()"
   ]
  },
  {
   "cell_type": "code",
   "execution_count": 8,
   "id": "a05bfd30",
   "metadata": {
    "execution": {
     "iopub.execute_input": "2022-05-13T20:26:51.234447Z",
     "iopub.status.busy": "2022-05-13T20:26:51.234180Z",
     "iopub.status.idle": "2022-05-13T20:26:51.237810Z",
     "shell.execute_reply": "2022-05-13T20:26:51.236915Z"
    },
    "papermill": {
     "duration": 0.03045,
     "end_time": "2022-05-13T20:26:51.239789",
     "exception": false,
     "start_time": "2022-05-13T20:26:51.209339",
     "status": "completed"
    },
    "tags": []
   },
   "outputs": [],
   "source": [
    "# Lines below will give you a hint or solution code\n",
    "#step_1.c.hint()\n",
    "#step_1.c.solution()"
   ]
  },
  {
   "cell_type": "markdown",
   "id": "5316c8a1",
   "metadata": {
    "papermill": {
     "duration": 0.022904,
     "end_time": "2022-05-13T20:26:51.286105",
     "exception": false,
     "start_time": "2022-05-13T20:26:51.263201",
     "status": "completed"
    },
    "tags": []
   },
   "source": [
    "# Step 2: Improve the model\n",
    "\n",
    "Now that you've trained a default model as baseline, it's time to tinker with the parameters, to see if you can get better performance!\n",
    "- Begin by setting `my_model_2` to an XGBoost model, using the [XGBRegressor](https://xgboost.readthedocs.io/en/latest/python/python_api.html#xgboost.XGBRegressor) class.  Use what you learned in the previous tutorial to figure out how to change the default parameters (like `n_estimators` and `learning_rate`) to get better results.\n",
    "- Then, fit the model to the training data in `X_train` and `y_train`.\n",
    "- Set `predictions_2` to the model's predictions for the validation data.  Recall that the validation features are stored in `X_valid`.\n",
    "- Finally, use the `mean_absolute_error()` function to calculate the mean absolute error (MAE) corresponding to the predictions on the validation set.  Recall that the labels for the validation data are stored in `y_valid`.\n",
    "\n",
    "In order for this step to be marked correct, your model in `my_model_2` must attain lower MAE than the model in `my_model_1`. "
   ]
  },
  {
   "cell_type": "code",
   "execution_count": 9,
   "id": "347615a3",
   "metadata": {
    "execution": {
     "iopub.execute_input": "2022-05-13T20:26:51.334384Z",
     "iopub.status.busy": "2022-05-13T20:26:51.333921Z",
     "iopub.status.idle": "2022-05-13T20:27:00.160735Z",
     "shell.execute_reply": "2022-05-13T20:27:00.159828Z"
    },
    "papermill": {
     "duration": 8.853721,
     "end_time": "2022-05-13T20:27:00.163059",
     "exception": false,
     "start_time": "2022-05-13T20:26:51.309338",
     "status": "completed"
    },
    "tags": []
   },
   "outputs": [
    {
     "name": "stdout",
     "output_type": "stream",
     "text": [
      "Mean Absolute Error: 16688.691513270547\n"
     ]
    },
    {
     "data": {
      "application/javascript": [
       "parent.postMessage({\"jupyterEvent\": \"custom.exercise_interaction\", \"data\": {\"outcomeType\": 1, \"valueTowardsCompletion\": 0.5, \"interactionType\": 1, \"questionType\": 2, \"questionId\": \"2_Model2\", \"learnToolsVersion\": \"0.3.4\", \"failureMessage\": \"\", \"exceptionClass\": \"\", \"trace\": \"\"}}, \"*\")"
      ],
      "text/plain": [
       "<IPython.core.display.Javascript object>"
      ]
     },
     "metadata": {},
     "output_type": "display_data"
    },
    {
     "data": {
      "text/markdown": [
       "<span style=\"color:#33cc33\">Correct</span>"
      ],
      "text/plain": [
       "Correct"
      ]
     },
     "metadata": {},
     "output_type": "display_data"
    }
   ],
   "source": [
    "# Define the model\n",
    "my_model_2 = XGBRegressor(n_estimators=1000,learning_rate=0.05)\n",
    "my_model_2.fit(X_train, y_train) # Your code here\n",
    "\n",
    "# Fit the model\n",
    "# Your code here\n",
    "\n",
    "# Get predictions\n",
    "predictions_2 =  my_model_2.predict(X_valid) # Your code here\n",
    "\n",
    "# Calculate MAE\n",
    "mae_2 = (mean_absolute_error(predictions_2, y_valid)) # Your code here\n",
    "\n",
    "# Uncomment to print MAE\n",
    "print(\"Mean Absolute Error:\" , mae_2)\n",
    "\n",
    "# Check your answer\n",
    "step_2.check()"
   ]
  },
  {
   "cell_type": "code",
   "execution_count": 10,
   "id": "b0b6b4ff",
   "metadata": {
    "execution": {
     "iopub.execute_input": "2022-05-13T20:27:00.216408Z",
     "iopub.status.busy": "2022-05-13T20:27:00.216117Z",
     "iopub.status.idle": "2022-05-13T20:27:00.219803Z",
     "shell.execute_reply": "2022-05-13T20:27:00.218988Z"
    },
    "papermill": {
     "duration": 0.03247,
     "end_time": "2022-05-13T20:27:00.221801",
     "exception": false,
     "start_time": "2022-05-13T20:27:00.189331",
     "status": "completed"
    },
    "tags": []
   },
   "outputs": [],
   "source": [
    "# Lines below will give you a hint or solution code\n",
    "#step_2.hint()\n",
    "#step_2.solution()"
   ]
  },
  {
   "cell_type": "markdown",
   "id": "df1875cc",
   "metadata": {
    "papermill": {
     "duration": 0.024592,
     "end_time": "2022-05-13T20:27:00.271499",
     "exception": false,
     "start_time": "2022-05-13T20:27:00.246907",
     "status": "completed"
    },
    "tags": []
   },
   "source": [
    "# Step 3: Break the model\n",
    "\n",
    "In this step, you will create a model that performs worse than the original model in Step 1.  This will help you to develop your intuition for how to set parameters.  You might even find that you accidentally get better performance, which is ultimately a nice problem to have and a valuable learning experience!\n",
    "- Begin by setting `my_model_3` to an XGBoost model, using the [XGBRegressor](https://xgboost.readthedocs.io/en/latest/python/python_api.html#xgboost.XGBRegressor) class.  Use what you learned in the previous tutorial to figure out how to change the default parameters (like `n_estimators` and `learning_rate`) to design a model to get high MAE.\n",
    "- Then, fit the model to the training data in `X_train` and `y_train`.\n",
    "- Set `predictions_3` to the model's predictions for the validation data.  Recall that the validation features are stored in `X_valid`.\n",
    "- Finally, use the `mean_absolute_error()` function to calculate the mean absolute error (MAE) corresponding to the predictions on the validation set.  Recall that the labels for the validation data are stored in `y_valid`.\n",
    "\n",
    "In order for this step to be marked correct, your model in `my_model_3` must attain higher MAE than the model in `my_model_1`. "
   ]
  },
  {
   "cell_type": "code",
   "execution_count": 11,
   "id": "9912c2ec",
   "metadata": {
    "execution": {
     "iopub.execute_input": "2022-05-13T20:27:00.323206Z",
     "iopub.status.busy": "2022-05-13T20:27:00.322668Z",
     "iopub.status.idle": "2022-05-13T20:27:00.936417Z",
     "shell.execute_reply": "2022-05-13T20:27:00.935283Z"
    },
    "papermill": {
     "duration": 0.642139,
     "end_time": "2022-05-13T20:27:00.938653",
     "exception": false,
     "start_time": "2022-05-13T20:27:00.296514",
     "status": "completed"
    },
    "tags": []
   },
   "outputs": [
    {
     "name": "stderr",
     "output_type": "stream",
     "text": [
      "/opt/conda/lib/python3.7/site-packages/xgboost/sklearn.py:797: UserWarning: `early_stopping_rounds` in `fit` method is deprecated for better compatibility with scikit-learn, use `early_stopping_rounds` in constructor or`set_params` instead.\n",
      "  UserWarning,\n"
     ]
    },
    {
     "name": "stdout",
     "output_type": "stream",
     "text": [
      "Mean Absolute Error: 17699.13936750856\n"
     ]
    },
    {
     "data": {
      "application/javascript": [
       "parent.postMessage({\"jupyterEvent\": \"custom.exercise_interaction\", \"data\": {\"outcomeType\": 1, \"valueTowardsCompletion\": 0.5, \"interactionType\": 1, \"questionType\": 2, \"questionId\": \"3_Model3\", \"learnToolsVersion\": \"0.3.4\", \"failureMessage\": \"\", \"exceptionClass\": \"\", \"trace\": \"\"}}, \"*\")"
      ],
      "text/plain": [
       "<IPython.core.display.Javascript object>"
      ]
     },
     "metadata": {},
     "output_type": "display_data"
    },
    {
     "data": {
      "text/markdown": [
       "<span style=\"color:#33cc33\">Correct</span>"
      ],
      "text/plain": [
       "Correct"
      ]
     },
     "metadata": {},
     "output_type": "display_data"
    }
   ],
   "source": [
    "# Define the model\n",
    "my_model_3 = XGBRegressor(n_estimators=1000) #learning_rate=0.05)\n",
    "# Fit the model\n",
    "my_model_3.fit(X_train, y_train, \n",
    "             early_stopping_rounds=5, \n",
    "             eval_set=[(X_valid, y_valid)], \n",
    "             verbose=False)# Your code here\n",
    "\n",
    "# Get predictions\n",
    "predictions_3  = my_model_3.predict(X_valid) \n",
    "\n",
    "# Calculate MAE\n",
    "mae_3 = (mean_absolute_error(predictions_3, y_valid))\n",
    "\n",
    "# Uncomment to print MAE\n",
    "print(\"Mean Absolute Error:\" , mae_3)\n",
    "\n",
    "# Check your answer\n",
    "step_3.check()"
   ]
  },
  {
   "cell_type": "code",
   "execution_count": 12,
   "id": "c9497397",
   "metadata": {
    "execution": {
     "iopub.execute_input": "2022-05-13T20:27:00.995468Z",
     "iopub.status.busy": "2022-05-13T20:27:00.995108Z",
     "iopub.status.idle": "2022-05-13T20:27:00.999206Z",
     "shell.execute_reply": "2022-05-13T20:27:00.998258Z"
    },
    "papermill": {
     "duration": 0.033983,
     "end_time": "2022-05-13T20:27:01.001300",
     "exception": false,
     "start_time": "2022-05-13T20:27:00.967317",
     "status": "completed"
    },
    "tags": []
   },
   "outputs": [],
   "source": [
    "# Lines below will give you a hint or solution code\n",
    "#step_3.hint()\n",
    "#step_3.solution()"
   ]
  },
  {
   "cell_type": "markdown",
   "id": "2c8a1d01",
   "metadata": {
    "papermill": {
     "duration": 0.026611,
     "end_time": "2022-05-13T20:27:01.054736",
     "exception": false,
     "start_time": "2022-05-13T20:27:01.028125",
     "status": "completed"
    },
    "tags": []
   },
   "source": [
    "# Keep going\n",
    "\n",
    "Continue to learn about **[data leakage](https://www.kaggle.com/alexisbcook/data-leakage)**.  This is an important issue for a data scientist to understand, and it has the potential to ruin your models in subtle and dangerous ways!"
   ]
  },
  {
   "cell_type": "markdown",
   "id": "50bfb81c",
   "metadata": {
    "papermill": {
     "duration": 0.026325,
     "end_time": "2022-05-13T20:27:01.107952",
     "exception": false,
     "start_time": "2022-05-13T20:27:01.081627",
     "status": "completed"
    },
    "tags": []
   },
   "source": [
    "---\n",
    "\n",
    "\n",
    "\n",
    "\n",
    "*Have questions or comments? Visit the [course discussion forum](https://www.kaggle.com/learn/intermediate-machine-learning/discussion) to chat with other learners.*"
   ]
  }
 ],
 "metadata": {
  "kernelspec": {
   "display_name": "Python 3",
   "language": "python",
   "name": "python3"
  },
  "language_info": {
   "codemirror_mode": {
    "name": "ipython",
    "version": 3
   },
   "file_extension": ".py",
   "mimetype": "text/x-python",
   "name": "python",
   "nbconvert_exporter": "python",
   "pygments_lexer": "ipython3",
   "version": "3.7.12"
  },
  "papermill": {
   "default_parameters": {},
   "duration": 24.124453,
   "end_time": "2022-05-13T20:27:01.855186",
   "environment_variables": {},
   "exception": null,
   "input_path": "__notebook__.ipynb",
   "output_path": "__notebook__.ipynb",
   "parameters": {},
   "start_time": "2022-05-13T20:26:37.730733",
   "version": "2.3.4"
  }
 },
 "nbformat": 4,
 "nbformat_minor": 5
}
